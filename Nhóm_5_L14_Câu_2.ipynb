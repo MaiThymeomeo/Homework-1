{
  "nbformat": 4,
  "nbformat_minor": 0,
  "metadata": {
    "colab": {
      "provenance": []
    },
    "kernelspec": {
      "name": "python3",
      "display_name": "Python 3"
    },
    "language_info": {
      "name": "python"
    }
  },
  "cells": [
    {
      "cell_type": "markdown",
      "source": [
        "# **Nhóm 5 - L14**\n",
        "\n",
        "**Thành viên:**\n",
        "\n",
        "1. Đoàn Ngọc Mai Thy - 050608200705\n",
        "2. Đỗ Ngọc Quỳnh Vy - 050608200774\n",
        "3. Nguyễn Ngọc Thanh Vy - 050608200783\n",
        "\n",
        "\n"
      ],
      "metadata": {
        "id": "KMUqpZ9eUxlV"
      }
    },
    {
      "cell_type": "markdown",
      "source": [
        "# **CÂU 2:**"
      ],
      "metadata": {
        "id": "H9T3lvPaUsn8"
      }
    },
    {
      "cell_type": "markdown",
      "source": [
        "***a)*** Độ tin cậy (confidence) bỏ qua độ phổ biến (support) của B (Pr(B)). Đây có thể là một nhược điểm vì nó không xét đến mức độ thường xuyên của B trong toàn bộ tập dữ liệu. \n",
        "\n",
        "Ví dụ: nếu B thường xuyên xuất hiện trong tập dữ liệu, khi đó độ tin cậy cao cho quy tắc A → B không phải lúc nào cũng thể hiện mối liên hệ chặt chẽ giữa A và B. Lift và Conviction không gặp phải nhược điểm này vì cả hai đều xét đến độ phổ biến của B. Lift đo lường khả năng A và B xảy ra cùng nhau cao hơn bao nhiêu so với việc chúng độc lập về mặt thống kê, trong khi Conviction so sánh xác suất A xuất hiện mà không có B nếu chúng độc lập với tần suất xuất hiện thực tế của A mà không có B."
      ],
      "metadata": {
        "id": "CbdVjBO8Ut6e"
      }
    },
    {
      "cell_type": "markdown",
      "source": [
        "***b)*** Lift đối xứng vì:\n",
        "* lift(A → B) = lift(B → A). \n",
        "\n",
        "Điều này có thể được biểu diễn như sau: \n",
        "* lift(A → B) = conf(A → B)/S(B) = (S(A ∩ B)/S(A))/(S(B)/N) = S (A ∩ B)*N/(S(A)*S(B)) = S(B ∩ A)*N/(S(B)*S(A)) = (S(B ∩ A)/S (B))/(S(A)/N) = conf(B → A)/S(A) = lift(B → A).\n",
        "\n",
        "Confidence và Conviction không đối xứng.\n",
        "\n",
        "Ví dụ: Xét tập dữ liệu có 4 giao dịch (transaction): {A,B}, {A,B}, {A}, {B}.\n",
        "\n",
        "Ta có:\n",
        "conf(A → B) = S(AB)/S(A) = 2/3 trong khi conf(B → A) = S(AB)/S(B) = 2/3.\n",
        "conv(A → B) = (1 − S(B))/1 − conf(A → B)= (1-3/4)/(1-2/3)=1 trong khi conv(B→A)= (1-S(A))/(1-conf(B→A))=(1-3/4)/(1-2/3)=1.\n"
      ],
      "metadata": {
        "id": "roKdk293UuLL"
      }
    },
    {
      "cell_type": "markdown",
      "source": [
        "***c)*** Confidence và Lift có đặc tính này. Đối với hàm ý hoàn hảo A → B, conf(A → B) = 1 vì xác suất có điều kiện của việc tìm itemset B với điều kiện có mặt itemset A là 1. Lift cũng đạt giá trị tối đa có thể đạt được đối với mọi hàm ý hoàn hảo vì lift(A → B ) = conf(A → B)/S(B) = 1/S(B), là mức tăng giá trị tối đa có thể đạt được với điều kiện S(B) ≤ 1.\n",
        "\n",
        "\n",
        "Conviction không có đặc tính này. Đối với hàm ý hoàn hảo A → B, conv(A → B) = (1 − S(B))/1 − conf(A → B) = (1 − S(B))/0 không xác định.\n",
        "Ví dụ để minh họa điều này: Xét một tập dữ liệu có 3 giao dịch: {A,B},{A,B},{A,B}. \n",
        "\n",
        "Ta có:\n",
        "\n",
        "conf(A→B)=S(AB)/S(A)=3/3=1\n",
        "\n",
        "lift(A→B)=conf(A→B)/S(B)=(3/3)/(3/3)=1\n",
        "\n",
        "conv(A→B)=(1-S(B))/(1-conf(A→B)) = (1-3/3)/(1-3/3)=không xác định\n"
      ],
      "metadata": {
        "id": "1EKXYeanVFPt"
      }
    },
    {
      "cell_type": "markdown",
      "source": [
        "***d) và e)***"
      ],
      "metadata": {
        "id": "MXz5HFS-UuO4"
      }
    },
    {
      "cell_type": "code",
      "execution_count": null,
      "metadata": {
        "colab": {
          "base_uri": "https://localhost:8080/"
        },
        "id": "6_bS8qWaSi6Z",
        "outputId": "6587ffb4-b12e-43da-fe29-e5e4c182bfbd"
      },
      "outputs": [
        {
          "output_type": "stream",
          "name": "stdout",
          "text": [
            "Looking in indexes: https://pypi.org/simple, https://us-python.pkg.dev/colab-wheels/public/simple/\n",
            "Collecting pyspark\n",
            "  Downloading pyspark-3.3.2.tar.gz (281.4 MB)\n",
            "\u001b[2K     \u001b[90m━━━━━━━━━━━━━━━━━━━━━━━━━━━━━━━━━━━━━━━\u001b[0m \u001b[32m281.4/281.4 MB\u001b[0m \u001b[31m4.5 MB/s\u001b[0m eta \u001b[36m0:00:00\u001b[0m\n",
            "\u001b[?25h  Preparing metadata (setup.py) ... \u001b[?25l\u001b[?25hdone\n",
            "Collecting py4j==0.10.9.5\n",
            "  Downloading py4j-0.10.9.5-py2.py3-none-any.whl (199 kB)\n",
            "\u001b[2K     \u001b[90m━━━━━━━━━━━━━━━━━━━━━━━━━━━━━━━━━━━━━━\u001b[0m \u001b[32m199.7/199.7 KB\u001b[0m \u001b[31m25.6 MB/s\u001b[0m eta \u001b[36m0:00:00\u001b[0m\n",
            "\u001b[?25hBuilding wheels for collected packages: pyspark\n",
            "  Building wheel for pyspark (setup.py) ... \u001b[?25l\u001b[?25hdone\n",
            "  Created wheel for pyspark: filename=pyspark-3.3.2-py2.py3-none-any.whl size=281824028 sha256=64da8e412a51d850ab13f325986f51a765e9d9bc582668f33aa6862c3830ea95\n",
            "  Stored in directory: /root/.cache/pip/wheels/6c/e3/9b/0525ce8a69478916513509d43693511463c6468db0de237c86\n",
            "Successfully built pyspark\n",
            "Installing collected packages: py4j, pyspark\n",
            "  Attempting uninstall: py4j\n",
            "    Found existing installation: py4j 0.10.9.7\n",
            "    Uninstalling py4j-0.10.9.7:\n",
            "      Successfully uninstalled py4j-0.10.9.7\n",
            "Successfully installed py4j-0.10.9.5 pyspark-3.3.2\n",
            "The following additional packages will be installed:\n",
            "  openjdk-8-jre-headless\n",
            "Suggested packages:\n",
            "  openjdk-8-demo openjdk-8-source libnss-mdns fonts-dejavu-extra\n",
            "  fonts-ipafont-gothic fonts-ipafont-mincho fonts-wqy-microhei\n",
            "  fonts-wqy-zenhei fonts-indic\n",
            "The following NEW packages will be installed:\n",
            "  openjdk-8-jdk-headless openjdk-8-jre-headless\n",
            "0 upgraded, 2 newly installed, 0 to remove and 23 not upgraded.\n",
            "Need to get 36.5 MB of archives.\n",
            "After this operation, 144 MB of additional disk space will be used.\n",
            "Selecting previously unselected package openjdk-8-jre-headless:amd64.\n",
            "(Reading database ... 128288 files and directories currently installed.)\n",
            "Preparing to unpack .../openjdk-8-jre-headless_8u362-ga-0ubuntu1~20.04.1_amd64.deb ...\n",
            "Unpacking openjdk-8-jre-headless:amd64 (8u362-ga-0ubuntu1~20.04.1) ...\n",
            "Selecting previously unselected package openjdk-8-jdk-headless:amd64.\n",
            "Preparing to unpack .../openjdk-8-jdk-headless_8u362-ga-0ubuntu1~20.04.1_amd64.deb ...\n",
            "Unpacking openjdk-8-jdk-headless:amd64 (8u362-ga-0ubuntu1~20.04.1) ...\n",
            "Setting up openjdk-8-jre-headless:amd64 (8u362-ga-0ubuntu1~20.04.1) ...\n",
            "update-alternatives: using /usr/lib/jvm/java-8-openjdk-amd64/jre/bin/orbd to provide /usr/bin/orbd (orbd) in auto mode\n",
            "update-alternatives: using /usr/lib/jvm/java-8-openjdk-amd64/jre/bin/servertool to provide /usr/bin/servertool (servertool) in auto mode\n",
            "update-alternatives: using /usr/lib/jvm/java-8-openjdk-amd64/jre/bin/tnameserv to provide /usr/bin/tnameserv (tnameserv) in auto mode\n",
            "Setting up openjdk-8-jdk-headless:amd64 (8u362-ga-0ubuntu1~20.04.1) ...\n",
            "update-alternatives: using /usr/lib/jvm/java-8-openjdk-amd64/bin/idlj to provide /usr/bin/idlj (idlj) in auto mode\n",
            "update-alternatives: using /usr/lib/jvm/java-8-openjdk-amd64/bin/wsimport to provide /usr/bin/wsimport (wsimport) in auto mode\n",
            "update-alternatives: using /usr/lib/jvm/java-8-openjdk-amd64/bin/jsadebugd to provide /usr/bin/jsadebugd (jsadebugd) in auto mode\n",
            "update-alternatives: using /usr/lib/jvm/java-8-openjdk-amd64/bin/native2ascii to provide /usr/bin/native2ascii (native2ascii) in auto mode\n",
            "update-alternatives: using /usr/lib/jvm/java-8-openjdk-amd64/bin/javah to provide /usr/bin/javah (javah) in auto mode\n",
            "update-alternatives: using /usr/lib/jvm/java-8-openjdk-amd64/bin/hsdb to provide /usr/bin/hsdb (hsdb) in auto mode\n",
            "update-alternatives: using /usr/lib/jvm/java-8-openjdk-amd64/bin/clhsdb to provide /usr/bin/clhsdb (clhsdb) in auto mode\n",
            "update-alternatives: using /usr/lib/jvm/java-8-openjdk-amd64/bin/xjc to provide /usr/bin/xjc (xjc) in auto mode\n",
            "update-alternatives: using /usr/lib/jvm/java-8-openjdk-amd64/bin/schemagen to provide /usr/bin/schemagen (schemagen) in auto mode\n",
            "update-alternatives: using /usr/lib/jvm/java-8-openjdk-amd64/bin/extcheck to provide /usr/bin/extcheck (extcheck) in auto mode\n",
            "update-alternatives: using /usr/lib/jvm/java-8-openjdk-amd64/bin/jhat to provide /usr/bin/jhat (jhat) in auto mode\n",
            "update-alternatives: using /usr/lib/jvm/java-8-openjdk-amd64/bin/wsgen to provide /usr/bin/wsgen (wsgen) in auto mode\n"
          ]
        }
      ],
      "source": [
        "!pip install pyspark\n",
        "!pip install -U -q PyDrive\n",
        "!apt install openjdk-8-jdk-headless -qq"
      ]
    },
    {
      "cell_type": "code",
      "source": [
        "import itertools\n",
        "import pyspark"
      ],
      "metadata": {
        "id": "r2HdUZHtSuWz"
      },
      "execution_count": null,
      "outputs": []
    },
    {
      "cell_type": "code",
      "source": [
        "sc=pyspark.SparkContext(\"local\",\"Apriori\")"
      ],
      "metadata": {
        "id": "I5Pedi88Su-Z"
      },
      "execution_count": null,
      "outputs": []
    },
    {
      "cell_type": "code",
      "source": [
        "text_input = sc.textFile('/content/browsing.txt')"
      ],
      "metadata": {
        "id": "aQrelalZS0Mz"
      },
      "execution_count": null,
      "outputs": []
    },
    {
      "cell_type": "code",
      "source": [
        "from operator import add\n",
        "no_of_baskets = text_input.map(lambda line: line.split()).count()\n",
        "no_of_baskets"
      ],
      "metadata": {
        "colab": {
          "base_uri": "https://localhost:8080/"
        },
        "id": "mYHtbqeFS2d9",
        "outputId": "9c314725-425d-4fea-c06b-e3cc109f7cc8"
      },
      "execution_count": null,
      "outputs": [
        {
          "output_type": "execute_result",
          "data": {
            "text/plain": [
              "31101"
            ]
          },
          "metadata": {},
          "execution_count": 5
        }
      ]
    },
    {
      "cell_type": "code",
      "source": [
        "txt_RDD = text_input.map(lambda line:line.split())\n",
        "txt_RDD.take(10)"
      ],
      "metadata": {
        "colab": {
          "base_uri": "https://localhost:8080/"
        },
        "id": "FNnEjFNmS4xG",
        "outputId": "33bc292d-bb4d-4556-b2b0-91bae2788bd3"
      },
      "execution_count": null,
      "outputs": [
        {
          "output_type": "execute_result",
          "data": {
            "text/plain": [
              "[['FRO11987', 'ELE17451', 'ELE89019', 'SNA90258', 'GRO99222'],\n",
              " ['GRO99222',\n",
              "  'GRO12298',\n",
              "  'FRO12685',\n",
              "  'ELE91550',\n",
              "  'SNA11465',\n",
              "  'ELE26917',\n",
              "  'ELE52966',\n",
              "  'FRO90334',\n",
              "  'SNA30755',\n",
              "  'ELE17451',\n",
              "  'FRO84225',\n",
              "  'SNA80192'],\n",
              " ['ELE17451', 'GRO73461', 'DAI22896', 'SNA99873', 'FRO86643'],\n",
              " ['ELE17451', 'ELE37798', 'FRO86643', 'GRO56989', 'ELE23393', 'SNA11465'],\n",
              " ['ELE17451',\n",
              "  'SNA69641',\n",
              "  'FRO86643',\n",
              "  'FRO78087',\n",
              "  'SNA11465',\n",
              "  'GRO39357',\n",
              "  'ELE28573',\n",
              "  'ELE11375',\n",
              "  'DAI54444'],\n",
              " ['ELE17451',\n",
              "  'GRO73461',\n",
              "  'DAI22896',\n",
              "  'SNA99873',\n",
              "  'FRO18919',\n",
              "  'DAI50921',\n",
              "  'SNA80192',\n",
              "  'GRO75578'],\n",
              " ['ELE17451',\n",
              "  'ELE59935',\n",
              "  'FRO18919',\n",
              "  'ELE23393',\n",
              "  'SNA80192',\n",
              "  'SNA85662',\n",
              "  'SNA91554',\n",
              "  'DAI22177'],\n",
              " ['ELE17451',\n",
              "  'SNA69641',\n",
              "  'FRO18919',\n",
              "  'SNA90258',\n",
              "  'ELE28573',\n",
              "  'ELE11375',\n",
              "  'DAI14125',\n",
              "  'FRO78087'],\n",
              " ['ELE17451',\n",
              "  'GRO73461',\n",
              "  'DAI22896',\n",
              "  'SNA80192',\n",
              "  'SNA85662',\n",
              "  'SNA90258',\n",
              "  'DAI46755',\n",
              "  'FRO81176',\n",
              "  'ELE66810',\n",
              "  'DAI49199',\n",
              "  'DAI91535',\n",
              "  'GRO94758',\n",
              "  'ELE94711',\n",
              "  'DAI22177'],\n",
              " ['ELE17451',\n",
              "  'SNA69641',\n",
              "  'DAI91535',\n",
              "  'GRO94758',\n",
              "  'GRO99222',\n",
              "  'FRO76833',\n",
              "  'FRO81176',\n",
              "  'SNA80192',\n",
              "  'DAI54690',\n",
              "  'ELE37798',\n",
              "  'GRO56989']]"
            ]
          },
          "metadata": {},
          "execution_count": 6
        }
      ]
    },
    {
      "cell_type": "code",
      "source": [
        "individual_counts = text_input.flatMap(lambda line: line.split()).map(lambda x: (x,1)).reduceByKey(add)\n",
        "individual_counts.take(10)"
      ],
      "metadata": {
        "colab": {
          "base_uri": "https://localhost:8080/"
        },
        "id": "bTeC0xIPS7cp",
        "outputId": "6990fa79-f4e1-4501-cac5-de8638eb49ae"
      },
      "execution_count": null,
      "outputs": [
        {
          "output_type": "execute_result",
          "data": {
            "text/plain": [
              "[('FRO11987', 104),\n",
              " ('ELE17451', 3875),\n",
              " ('ELE89019', 38),\n",
              " ('SNA90258', 550),\n",
              " ('GRO99222', 906),\n",
              " ('GRO12298', 385),\n",
              " ('FRO12685', 23),\n",
              " ('ELE91550', 23),\n",
              " ('SNA11465', 142),\n",
              " ('ELE26917', 2292)]"
            ]
          },
          "metadata": {},
          "execution_count": 7
        }
      ]
    },
    {
      "cell_type": "code",
      "source": [
        "freq_items_counts = individual_counts.filter(lambda x: x[1]>=100).sortBy(lambda x: x[0])\n",
        "freq_items_counts.take(10)"
      ],
      "metadata": {
        "colab": {
          "base_uri": "https://localhost:8080/"
        },
        "id": "KP9RnhALS9s5",
        "outputId": "aae6fd88-cdf9-461c-9912-a4afe89f9b61"
      },
      "execution_count": null,
      "outputs": [
        {
          "output_type": "execute_result",
          "data": {
            "text/plain": [
              "[('DAI11223', 155),\n",
              " ('DAI11778', 117),\n",
              " ('DAI13194', 116),\n",
              " ('DAI13266', 181),\n",
              " ('DAI13788', 213),\n",
              " ('DAI13902', 233),\n",
              " ('DAI14125', 163),\n",
              " ('DAI14181', 110),\n",
              " ('DAI14470', 153),\n",
              " ('DAI15681', 132)]"
            ]
          },
          "metadata": {},
          "execution_count": 8
        }
      ]
    },
    {
      "cell_type": "code",
      "source": [
        "freq_items_counts_list = individual_counts.filter(lambda x: x[1]>=100).sortBy(lambda x: x[0]).collect()"
      ],
      "metadata": {
        "id": "cTLNeqFYS-kk"
      },
      "execution_count": null,
      "outputs": []
    },
    {
      "cell_type": "code",
      "source": [
        "freq_items = freq_items_counts.map(lambda x: x[0])\n",
        "freq_items.take(10)"
      ],
      "metadata": {
        "colab": {
          "base_uri": "https://localhost:8080/"
        },
        "id": "XJav5gXDTCEM",
        "outputId": "ffba9beb-acc3-4764-ff39-dbbbf6a23e97"
      },
      "execution_count": null,
      "outputs": [
        {
          "output_type": "execute_result",
          "data": {
            "text/plain": [
              "['DAI11223',\n",
              " 'DAI11778',\n",
              " 'DAI13194',\n",
              " 'DAI13266',\n",
              " 'DAI13788',\n",
              " 'DAI13902',\n",
              " 'DAI14125',\n",
              " 'DAI14181',\n",
              " 'DAI14470',\n",
              " 'DAI15681']"
            ]
          },
          "metadata": {},
          "execution_count": 10
        }
      ]
    },
    {
      "cell_type": "code",
      "source": [
        "freq_items_list = freq_items_counts.map(lambda x: x[0]).collect()"
      ],
      "metadata": {
        "id": "eKjn3zabTEmc"
      },
      "execution_count": null,
      "outputs": []
    },
    {
      "cell_type": "code",
      "source": [
        "freq_items_list[:10]"
      ],
      "metadata": {
        "colab": {
          "base_uri": "https://localhost:8080/"
        },
        "id": "slpCQAuyTFQm",
        "outputId": "19cb3996-0054-4188-97b7-6fd849dce33e"
      },
      "execution_count": null,
      "outputs": [
        {
          "output_type": "execute_result",
          "data": {
            "text/plain": [
              "['DAI11223',\n",
              " 'DAI11778',\n",
              " 'DAI13194',\n",
              " 'DAI13266',\n",
              " 'DAI13788',\n",
              " 'DAI13902',\n",
              " 'DAI14125',\n",
              " 'DAI14181',\n",
              " 'DAI14470',\n",
              " 'DAI15681']"
            ]
          },
          "metadata": {},
          "execution_count": 12
        }
      ]
    },
    {
      "cell_type": "code",
      "source": [
        "no_of_freq_items=freq_items.count()\n",
        "no_of_freq_items"
      ],
      "metadata": {
        "colab": {
          "base_uri": "https://localhost:8080/"
        },
        "id": "3y2YOwy9TI2h",
        "outputId": "272fc288-20a2-4ff8-f053-dda09150c208"
      },
      "execution_count": null,
      "outputs": [
        {
          "output_type": "execute_result",
          "data": {
            "text/plain": [
              "647"
            ]
          },
          "metadata": {},
          "execution_count": 13
        }
      ]
    },
    {
      "cell_type": "code",
      "source": [
        "def filter_and_pair(lst):\n",
        "    ret=[]\n",
        "    pairs=[]\n",
        "    for i in lst:\n",
        "        if i in freq_items_list:\n",
        "            ret.append(i)\n",
        "    ret.sort()\n",
        "    for pair in itertools.combinations(ret,2):\n",
        "        pairs.append((pair,1))\n",
        "    return(pairs)"
      ],
      "metadata": {
        "id": "SQ6Hu35LTLWB"
      },
      "execution_count": null,
      "outputs": []
    },
    {
      "cell_type": "code",
      "source": [
        "def filter_2(lst):\n",
        "    ret=[]\n",
        "    trips=[]\n",
        "    for i in lst:\n",
        "        if i in freq_items_2:\n",
        "            ret.append(i)\n",
        "    ret.sort()\n",
        "    for trip in itertools.combinations(ret,3):\n",
        "        trips.append(((trip),1))\n",
        "    return(trips)"
      ],
      "metadata": {
        "id": "IHIBxchHTNx4"
      },
      "execution_count": null,
      "outputs": []
    },
    {
      "cell_type": "code",
      "source": [
        "def confidence(elem):\n",
        "    lst=[]\n",
        "    conf1 = elem[1]/(freq_pair_counts.filter(lambda x: x[0]==elem[0][0]).collect())[0][1]\n",
        "    conf2 = elem[1]/(freq_items_counts.filter(lambda x: x[0]==elem[0][1]).collect())[0][1]\n",
        "    lst.append(((elem[0],elem[1]),conf1))\n",
        "    lst.append(((elem[1],elem[0]),conf2))\n",
        "    return(lst)"
      ],
      "metadata": {
        "id": "SRb0efS-TQYE"
      },
      "execution_count": null,
      "outputs": []
    },
    {
      "cell_type": "code",
      "source": [
        "def confidence2(elem):\n",
        "    lii=[]\n",
        "    for i in (itertools.combinations(elem[0],2)):\n",
        "        conf=elem[1]/(freq_pair_counts.filter(lambda X: x[0]==i)).collect[0][1]\n",
        "        lii.append((i,conf))\n",
        "    ret(lii)"
      ],
      "metadata": {
        "id": "kbCqIhC-TTFU"
      },
      "execution_count": null,
      "outputs": []
    },
    {
      "cell_type": "code",
      "source": [
        "pair_counts = txt_RDD.flatMap(lambda x: filter_and_pair(x)).reduceByKey(add).sortBy( lambda x: x[0])\n",
        "pair_counts.take(10)"
      ],
      "metadata": {
        "colab": {
          "base_uri": "https://localhost:8080/"
        },
        "id": "Ht42w7JTTS9_",
        "outputId": "d282429d-4c0f-4d8e-f49b-40836a3289cd"
      },
      "execution_count": null,
      "outputs": [
        {
          "output_type": "execute_result",
          "data": {
            "text/plain": [
              "[(('DAI11223', 'DAI13194'), 1),\n",
              " (('DAI11223', 'DAI13266'), 1),\n",
              " (('DAI11223', 'DAI13902'), 2),\n",
              " (('DAI11223', 'DAI20585'), 1),\n",
              " (('DAI11223', 'DAI22177'), 17),\n",
              " (('DAI11223', 'DAI22240'), 7),\n",
              " (('DAI11223', 'DAI22534'), 1),\n",
              " (('DAI11223', 'DAI22896'), 7),\n",
              " (('DAI11223', 'DAI25796'), 1),\n",
              " (('DAI11223', 'DAI26369'), 3)]"
            ]
          },
          "metadata": {},
          "execution_count": 18
        }
      ]
    },
    {
      "cell_type": "code",
      "source": [
        "freq_pair_counts = pair_counts.filter(lambda x: x[1]>=100)\n",
        "freq_pair_counts.take(10)\n",
        "freq_pair_counts_list = freq_pair_counts.collect()\n",
        "freq_pair_counts_list[:10]"
      ],
      "metadata": {
        "colab": {
          "base_uri": "https://localhost:8080/"
        },
        "id": "hJkqe475TTEH",
        "outputId": "82ca8c2c-9fa2-402c-8184-16ed0caee65e"
      },
      "execution_count": null,
      "outputs": [
        {
          "output_type": "execute_result",
          "data": {
            "text/plain": [
              "[(('DAI16732', 'FRO78087'), 106),\n",
              " (('DAI18527', 'SNA44451'), 102),\n",
              " (('DAI22177', 'DAI31081'), 127),\n",
              " (('DAI22177', 'DAI62779'), 382),\n",
              " (('DAI22177', 'DAI63921'), 136),\n",
              " (('DAI22177', 'DAI75645'), 123),\n",
              " (('DAI22177', 'DAI83733'), 126),\n",
              " (('DAI22177', 'DAI85309'), 172),\n",
              " (('DAI22177', 'ELE17451'), 203),\n",
              " (('DAI22177', 'ELE26917'), 134)]"
            ]
          },
          "metadata": {},
          "execution_count": 19
        }
      ]
    },
    {
      "cell_type": "code",
      "source": [
        "freq_pairs = freq_pair_counts.map(lambda x: x[0])\n",
        "freq_pairs.take(10)"
      ],
      "metadata": {
        "colab": {
          "base_uri": "https://localhost:8080/"
        },
        "id": "-BBbQWR9TZvm",
        "outputId": "54bd111a-ec91-45e7-8567-c4d0e492b85c"
      },
      "execution_count": null,
      "outputs": [
        {
          "output_type": "execute_result",
          "data": {
            "text/plain": [
              "[('DAI16732', 'FRO78087'),\n",
              " ('DAI18527', 'SNA44451'),\n",
              " ('DAI22177', 'DAI31081'),\n",
              " ('DAI22177', 'DAI62779'),\n",
              " ('DAI22177', 'DAI63921'),\n",
              " ('DAI22177', 'DAI75645'),\n",
              " ('DAI22177', 'DAI83733'),\n",
              " ('DAI22177', 'DAI85309'),\n",
              " ('DAI22177', 'ELE17451'),\n",
              " ('DAI22177', 'ELE26917')]"
            ]
          },
          "metadata": {},
          "execution_count": 20
        }
      ]
    },
    {
      "cell_type": "code",
      "source": [
        "conf_lst=[]\n",
        "for i in freq_pair_counts_list:\n",
        "    conf1 = i[1]/(freq_items_counts.filter(lambda x: x[0]==i[0][0]).collect())[0][1]\n",
        "    conf2 = i[1]/(freq_items_counts.filter(lambda x: x[0]==i[0][1]).collect())[0][1]\n",
        "    conf_lst.append(((i[0][0],i[0][1]),conf1))\n",
        "    conf_lst.append(((i[0][1],i[0][0]),conf2))"
      ],
      "metadata": {
        "id": "HNG0nlyCTep-"
      },
      "execution_count": null,
      "outputs": []
    },
    {
      "cell_type": "code",
      "source": [
        "conf_lst.sort(key=lambda x: -x[1])\n",
        "conf_lst[:5]"
      ],
      "metadata": {
        "colab": {
          "base_uri": "https://localhost:8080/"
        },
        "id": "o8by7Y6NTnvZ",
        "outputId": "707cc84e-be07-4002-f112-d46ce0fe3444"
      },
      "execution_count": null,
      "outputs": [
        {
          "output_type": "execute_result",
          "data": {
            "text/plain": [
              "[(('DAI93865', 'FRO40251'), 1.0),\n",
              " (('GRO85051', 'FRO40251'), 0.999176276771005),\n",
              " (('GRO38636', 'FRO40251'), 0.9906542056074766),\n",
              " (('ELE12951', 'FRO40251'), 0.9905660377358491),\n",
              " (('DAI88079', 'FRO40251'), 0.9867256637168141)]"
            ]
          },
          "metadata": {},
          "execution_count": 22
        }
      ]
    },
    {
      "cell_type": "code",
      "source": [
        "freq_items_2 = freq_pairs.flatMap(lambda x: x).collect()\n",
        "freq_items_2[:10]"
      ],
      "metadata": {
        "colab": {
          "base_uri": "https://localhost:8080/"
        },
        "id": "vT2pxjuzTssS",
        "outputId": "0f8ffb08-8a92-4d6e-adb5-bc9c453ea7d0"
      },
      "execution_count": null,
      "outputs": [
        {
          "output_type": "execute_result",
          "data": {
            "text/plain": [
              "['DAI16732',\n",
              " 'FRO78087',\n",
              " 'DAI18527',\n",
              " 'SNA44451',\n",
              " 'DAI22177',\n",
              " 'DAI31081',\n",
              " 'DAI22177',\n",
              " 'DAI62779',\n",
              " 'DAI22177',\n",
              " 'DAI63921']"
            ]
          },
          "metadata": {},
          "execution_count": 23
        }
      ]
    },
    {
      "cell_type": "code",
      "source": [
        "trips_counts = txt_RDD.flatMap(lambda x: filter_2(x)).reduceByKey(add).sortBy(lambda x: x[0])\n",
        "trips_counts.take(10)"
      ],
      "metadata": {
        "colab": {
          "base_uri": "https://localhost:8080/"
        },
        "id": "ObQd3y-ITs29",
        "outputId": "e2324a73-1c9f-4c2c-e6f5-a2c95c7d9a87"
      },
      "execution_count": null,
      "outputs": [
        {
          "output_type": "execute_result",
          "data": {
            "text/plain": [
              "[(('DAI16732', 'DAI18527', 'DAI35347'), 2),\n",
              " (('DAI16732', 'DAI18527', 'DAI59508'), 2),\n",
              " (('DAI16732', 'DAI18527', 'DAI62779'), 1),\n",
              " (('DAI16732', 'DAI18527', 'DAI63921'), 2),\n",
              " (('DAI16732', 'DAI18527', 'DAI85309'), 1),\n",
              " (('DAI16732', 'DAI18527', 'DAI95741'), 1),\n",
              " (('DAI16732', 'DAI18527', 'ELE12792'), 1),\n",
              " (('DAI16732', 'DAI18527', 'ELE12845'), 1),\n",
              " (('DAI16732', 'DAI18527', 'ELE20398'), 1),\n",
              " (('DAI16732', 'DAI18527', 'ELE21353'), 3)]"
            ]
          },
          "metadata": {},
          "execution_count": 24
        }
      ]
    },
    {
      "cell_type": "code",
      "source": [
        "freq_trips = trips_counts.filter(lambda x: x[1]>=100)\n",
        "freq_trips.take(10)"
      ],
      "metadata": {
        "colab": {
          "base_uri": "https://localhost:8080/"
        },
        "id": "zF0zjruCTzfo",
        "outputId": "12c3337a-d7f9-4994-dea2-5ca6dbbd9ad8"
      },
      "execution_count": null,
      "outputs": [
        {
          "output_type": "execute_result",
          "data": {
            "text/plain": [
              "[(('DAI22896', 'DAI62779', 'GRO73461'), 101),\n",
              " (('DAI23334', 'DAI62779', 'ELE92920'), 143),\n",
              " (('DAI31081', 'DAI62779', 'ELE17451'), 103),\n",
              " (('DAI31081', 'DAI75645', 'FRO40251'), 122),\n",
              " (('DAI31081', 'ELE32164', 'GRO59710'), 112),\n",
              " (('DAI31081', 'FRO40251', 'GRO85051'), 102),\n",
              " (('DAI31081', 'FRO40251', 'SNA80324'), 103),\n",
              " (('DAI42083', 'DAI62779', 'DAI92600'), 105),\n",
              " (('DAI42083', 'DAI92600', 'ELE17451'), 117),\n",
              " (('DAI42493', 'DAI62779', 'ELE17451'), 112)]"
            ]
          },
          "metadata": {},
          "execution_count": 25
        }
      ]
    },
    {
      "cell_type": "code",
      "source": [
        "freq_trips_list = trips_counts.filter(lambda x: x[1]>=100).collect()\n",
        "conf_trips=[]\n",
        "for i in freq_trips_list:\n",
        "    a=set(i[0])\n",
        "    for j in (itertools.combinations(i[0],2)):\n",
        "        b=set(j)\n",
        "        c=list(a-b)\n",
        "        conf=i[1]/(freq_pair_counts.filter(lambda x: x[0]==j)).collect()[0][1]\n",
        "        conf_trips.append(((j,c[0]),conf))"
      ],
      "metadata": {
        "id": "zwMbbv6XT2R4"
      },
      "execution_count": null,
      "outputs": []
    },
    {
      "cell_type": "code",
      "source": [
        "conf_trips.sort(key = lambda x: -x[1])"
      ],
      "metadata": {
        "id": "xTUYhgHPT4iJ"
      },
      "execution_count": null,
      "outputs": []
    },
    {
      "cell_type": "code",
      "source": [
        "conf_trips[:5]"
      ],
      "metadata": {
        "colab": {
          "base_uri": "https://localhost:8080/"
        },
        "id": "yJAykVALT5Vy",
        "outputId": "c378b08d-ebba-4fc7-a634-68200cbe66e9"
      },
      "execution_count": null,
      "outputs": [
        {
          "data": {
            "text/plain": [
              "[((('DAI23334', 'ELE92920'), 'DAI62779'), 1.0),\n",
              " ((('DAI31081', 'GRO85051'), 'FRO40251'), 1.0),\n",
              " ((('DAI55911', 'GRO85051'), 'FRO40251'), 1.0),\n",
              " ((('DAI62779', 'DAI88079'), 'FRO40251'), 1.0),\n",
              " ((('DAI75645', 'GRO85051'), 'FRO40251'), 1.0)]"
            ]
          },
          "execution_count": 28,
          "metadata": {},
          "output_type": "execute_result"
        }
      ]
    }
  ]
}