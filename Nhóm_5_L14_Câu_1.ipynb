{
  "nbformat": 4,
  "nbformat_minor": 0,
  "metadata": {
    "colab": {
      "provenance": []
    },
    "kernelspec": {
      "name": "python3",
      "display_name": "Python 3"
    },
    "language_info": {
      "name": "python"
    }
  },
  "cells": [
    {
      "cell_type": "markdown",
      "source": [
        "# **Nhóm 5 - L14**\n",
        "**Thành viên:**\n",
        "1. Đoàn Ngọc Mai Thy - 050608200705\n",
        "2. Đỗ Ngọc Quỳnh Vy - 050608200774\n",
        "3. Nguyễn Ngọc Thanh Vy - 050608200783"
      ],
      "metadata": {
        "id": "OA2ORoprUB21"
      }
    },
    {
      "cell_type": "markdown",
      "source": [
        "# **CÂU 1:**"
      ],
      "metadata": {
        "id": "0cdxpk74UmK1"
      }
    },
    {
      "cell_type": "code",
      "execution_count": null,
      "metadata": {
        "id": "qDusj4EV30Z0"
      },
      "outputs": [],
      "source": [
        "!pip install pyspark\n",
        "!pip install -U -q PyDrive\n",
        "!apt install openjdk-8-jdk-headless -qq\n",
        "import os\n",
        "os.environ[\"JAVA_HOME\"] = \"/usr/lib/jvm/java-8-openjdk-amd64\""
      ]
    },
    {
      "cell_type": "code",
      "source": [
        "import itertools\n",
        "import pyspark\n",
        "from pyspark.sql import *\n",
        "from pyspark.sql.functions import *\n",
        "from pyspark import SparkContext, SparkConf\n",
        "# create the session\n",
        "conf = SparkConf()\n",
        "# create the context\n",
        "sc = pyspark.SparkContext(conf=conf)\n",
        "spark = SparkSession.builder.getOrCreate()"
      ],
      "metadata": {
        "id": "HBbDVkAPK2LU"
      },
      "execution_count": null,
      "outputs": []
    },
    {
      "cell_type": "code",
      "source": [
        "def parse_line(line):\n",
        "    split = line.split(\"\\t\")\n",
        "    userID = int(split[0])\n",
        "    if len(split) == 1:\n",
        "        list_friends = []\n",
        "    else:\n",
        "        list_friends = list(map(lambda a: int(a), split[1].split(',')))\n",
        "    return userID, list_friends"
      ],
      "metadata": {
        "id": "qjc69LRQMC4l"
      },
      "execution_count": null,
      "outputs": []
    },
    {
      "cell_type": "code",
      "source": [
        "def friendship_to_connection(f_o):\n",
        "    userID = f_o[0]\n",
        "    friends = f_o[1]\n",
        "    connections = []\n",
        "    for friendID in friends:\n",
        "        password = (userID, friendID)\n",
        "        if userID > friendID:\n",
        "            password= (friendID, userID)\n",
        "        connections.append((password, 0))  # they are friends, value=0\n",
        "    for friendpair in itertools.combinations(friends, 2):\n",
        "        friend_0 = friendpair[0]\n",
        "        friend_1 = friendpair[1]\n",
        "        password = (friend_0, friend_1)\n",
        "        if friend_0 > friend_1:\n",
        "            password = (friend_1, friend_0)\n",
        "        connections.append((password, 1))  # they have mutual friends, value=1\n",
        "    return connections"
      ],
      "metadata": {
        "id": "hzmQIKUEortn"
      },
      "execution_count": null,
      "outputs": []
    },
    {
      "cell_type": "code",
      "source": [
        "def mutual_friend_count_to_recommendation(f):\n",
        "    pair = f[0]\n",
        "    friend0 = pair[0]\n",
        "    friend1 = pair[1]\n",
        "    noMutFriends = f[1]\n",
        "    recommendation0 = (friend0, (friend1, noMutFriends))\n",
        "    recommendation1 = (friend1, (friend0, noMutFriends))\n",
        "    return [recommendation0, recommendation1]"
      ],
      "metadata": {
        "id": "lZphx026ow6S"
      },
      "execution_count": null,
      "outputs": []
    },
    {
      "cell_type": "code",
      "source": [
        "def recommendation_to_sorted_truncated(recommendations):\n",
        "    recommendations = sorted(recommendations, key=lambda x: (-x[1], x[0]))\n",
        "    result = map(lambda x: x[0], recommendations[:10])\n",
        "    return list(result)"
      ],
      "metadata": {
        "id": "zEmTPYDmozGq"
      },
      "execution_count": null,
      "outputs": []
    },
    {
      "cell_type": "code",
      "source": [
        "# Đọc từ tệp văn bản\n",
        "data = sc.textFile('soc-LiveJournal1Adj.txt')"
      ],
      "metadata": {
        "id": "M9ZQeMeDLMCJ"
      },
      "execution_count": null,
      "outputs": []
    },
    {
      "cell_type": "code",
      "source": [
        "# Chuyển đổi mỗi dòng thành cặp (user_id, [friend_id_0, friend_id_1, ...])\n",
        "friendship = data.map(parse_line).filter(lambda friend: friend[1] != '')#.filter(lambda friend: friend[0] < 1000) # Lấy 1000 mẫu để kiểm tra\n",
        "print(friendship.take(1))"
      ],
      "metadata": {
        "colab": {
          "base_uri": "https://localhost:8080/"
        },
        "id": "Hbkr8VHHo3qd",
        "outputId": "95b26f94-c7a7-428b-efff-3b21225faa58"
      },
      "execution_count": null,
      "outputs": [
        {
          "output_type": "stream",
          "name": "stdout",
          "text": [
            "[(0, [1, 2, 3, 4, 5, 6, 7, 8, 9, 10, 11, 12, 13, 14, 15, 16, 17, 18, 19, 20, 21, 22, 23, 24, 25, 26, 27, 28, 29, 30, 31, 32, 33, 34, 35, 36, 37, 38, 39, 40, 41, 42, 43, 44, 45, 46, 47, 48, 49, 50, 51, 52, 53, 54, 55, 56, 57, 58, 59, 60, 61, 62, 63, 64, 65, 66, 67, 68, 69, 70, 71, 72, 73, 74, 75, 76, 77, 78, 79, 80, 81, 82, 83, 84, 85, 86, 87, 88, 89, 90, 91, 92, 93, 94])]\n"
          ]
        }
      ]
    },
    {
      "cell_type": "code",
      "source": [
        "# Chuyển đổi sở hữu bạn thành các cặp ((user_id, friend_id), VALUE).\n",
        "# VALUE = 0 => Các cặp đã là bạn.\n",
        "# VALUE = 1 => Các cặp có bạn chung.\n",
        "friend_edges = friendship.flatMap(friendship_to_connection)\n",
        "friend_edges.cache()\n",
        "print(friend_edges.take(1))"
      ],
      "metadata": {
        "colab": {
          "base_uri": "https://localhost:8080/"
        },
        "id": "eM0eTNcfo83R",
        "outputId": "86791551-0247-4012-8c0a-b90b0ed6c498"
      },
      "execution_count": null,
      "outputs": [
        {
          "output_type": "stream",
          "name": "stdout",
          "text": [
            "[((0, 1), 0)]\n"
          ]
        }
      ]
    },
    {
      "cell_type": "code",
      "source": [
        "# Lọc các cặp đã là bạn\n",
        "mutualFriend = friend_edges.groupByKey().filter(lambda edge: 0 not in edge[1]).flatMap(lambda a: [(a[0],item) for item in a[1]]) \n",
        "print(mutualFriend.take(11))"
      ],
      "metadata": {
        "colab": {
          "base_uri": "https://localhost:8080/"
        },
        "id": "ql5w66OmpAF_",
        "outputId": "d7a84f44-dc3f-41b0-92bd-07bc47ae4638"
      },
      "execution_count": null,
      "outputs": [
        {
          "output_type": "stream",
          "name": "stdout",
          "text": [
            "[((34392, 34450), 1), ((34392, 34450), 1), ((34392, 34450), 1), ((34392, 34450), 1), ((34392, 34450), 1), ((8, 19068), 1), ((50, 4990), 1), ((3931, 8703), 1), ((32631, 43897), 1), ((32631, 43897), 1), ((29481, 31997), 1)]\n"
          ]
        }
      ]
    },
    {
      "cell_type": "code",
      "source": [
        "# Đếm số lượng bạn chung bằng cách cộng giá trị\n",
        "mutualFriend_counts = mutualFriend.reduceByKey(lambda a, b: a + b)\n",
        "print(mutualFriend_counts.take(1))"
      ],
      "metadata": {
        "colab": {
          "base_uri": "https://localhost:8080/"
        },
        "id": "ONvlr_jIpCWL",
        "outputId": "5471dd20-ea44-4c8a-e37d-d51ff7593787"
      },
      "execution_count": null,
      "outputs": [
        {
          "output_type": "stream",
          "name": "stdout",
          "text": [
            "[((20003, 24475), 1)]\n"
          ]
        }
      ]
    },
    {
      "cell_type": "code",
      "source": [
        "# Tạo các đối tượng đề xuất, nhóm chúng theo key, sau đó sắp xếp và\n",
        "recommendations = mutualFriend_counts.flatMap(mutual_friend_count_to_recommendation).groupByKey()\n",
        "print(recommendations.take(22))"
      ],
      "metadata": {
        "colab": {
          "base_uri": "https://localhost:8080/"
        },
        "id": "nWtz2dR-pEvq",
        "outputId": "76092d42-e986-4dff-e3a9-b5ab1c138c0a"
      },
      "execution_count": null,
      "outputs": [
        {
          "output_type": "stream",
          "name": "stdout",
          "text": [
            "[(39238, <pyspark.resultiterable.ResultIterable object at 0x7f42b4095df0>), (17558, <pyspark.resultiterable.ResultIterable object at 0x7f42b402e430>), (4674, <pyspark.resultiterable.ResultIterable object at 0x7f42b402e070>), (9248, <pyspark.resultiterable.ResultIterable object at 0x7f42b402e610>), (30090, <pyspark.resultiterable.ResultIterable object at 0x7f42b402efa0>), (10412, <pyspark.resultiterable.ResultIterable object at 0x7f42b402e640>), (34664, <pyspark.resultiterable.ResultIterable object at 0x7f42b402e730>), (40402, <pyspark.resultiterable.ResultIterable object at 0x7f42b402ea90>), (24134, <pyspark.resultiterable.ResultIterable object at 0x7f42b402eb20>), (44976, <pyspark.resultiterable.ResultIterable object at 0x7f42b402e880>), (4456, <pyspark.resultiterable.ResultIterable object at 0x7f42b4036370>), (27870, <pyspark.resultiterable.ResultIterable object at 0x7f42b4036b20>), (31838, <pyspark.resultiterable.ResultIterable object at 0x7f42b4036400>), (23296, <pyspark.resultiterable.ResultIterable object at 0x7f42b4036430>), (20724, <pyspark.resultiterable.ResultIterable object at 0x7f42b40365e0>), (27264, <pyspark.resultiterable.ResultIterable object at 0x7f42b4036700>), (22690, <pyspark.resultiterable.ResultIterable object at 0x7f42b4036e80>), (10194, <pyspark.resultiterable.ResultIterable object at 0x7f42b4036f40>), (3012, <pyspark.resultiterable.ResultIterable object at 0x7f42b4036190>), (33002, <pyspark.resultiterable.ResultIterable object at 0x7f42b4036ca0>), (1848, <pyspark.resultiterable.ResultIterable object at 0x7f42b4036250>), (7586, <pyspark.resultiterable.ResultIterable object at 0x7f42b40364f0>)]\n"
          ]
        }
      ]
    },
    {
      "cell_type": "code",
      "source": [
        "# Cắt bớt các đề xuất thành 10 đề xuất được đề xuất nhiều nhất.\n",
        "top10_recommendations = recommendations.map(lambda m: (m[0], recommendation_to_sorted_truncated(list(m[1])))).sortByKey() "
      ],
      "metadata": {
        "id": "10-8ia7_pGxh"
      },
      "execution_count": null,
      "outputs": []
    },
    {
      "cell_type": "code",
      "source": [
        "# Bao gồm các đề xuất trong bài viết cho người dùng có ID sau: 924, 8941, 8942, 9019, 9020, 9021, 9022, 9990, 9992, 9993.\n",
        "results = top10_recommendations.filter(lambda recommendations: recommendations[0] in [924, 8941, 8942, 9019, 9020, 9021, 9022, 9990, 9992, 9993])"
      ],
      "metadata": {
        "id": "MQhhDVwwpI6A"
      },
      "execution_count": null,
      "outputs": []
    },
    {
      "cell_type": "code",
      "source": [
        "results.collect()"
      ],
      "metadata": {
        "id": "BTkG0CwKLOiz",
        "colab": {
          "base_uri": "https://localhost:8080/"
        },
        "outputId": "dd3d726b-c151-45e7-862e-65e1c0fb5a12"
      },
      "execution_count": null,
      "outputs": [
        {
          "output_type": "execute_result",
          "data": {
            "text/plain": [
              "[(924, [439, 2409, 6995, 11860, 15416, 43748, 45881]),\n",
              " (8941, [8943, 8944, 8940]),\n",
              " (8942, [8939, 8940, 8943, 8944]),\n",
              " (9019, [9022, 317, 9023]),\n",
              " (9020, [9021, 9016, 9017, 9022, 317, 9023]),\n",
              " (9021, [9020, 9016, 9017, 9022, 317, 9023]),\n",
              " (9022, [9019, 9020, 9021, 317, 9016, 9017, 9023]),\n",
              " (9990, [13134, 13478, 13877, 34299, 34485, 34642, 37941]),\n",
              " (9992, [9987, 9989, 35667, 9991]),\n",
              " (9993, [9991, 13134, 13478, 13877, 34299, 34485, 34642, 37941])]"
            ]
          },
          "metadata": {},
          "execution_count": 23
        }
      ]
    }
  ]
}